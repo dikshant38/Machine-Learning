{
  "cells": [
    {
      "cell_type": "markdown",
      "metadata": {
        "id": "view-in-github",
        "colab_type": "text"
      },
      "source": [
        "<a href=\"https://colab.research.google.com/github/dikshant38/Machine-Learning/blob/main/Problem_Statements.ipynb\" target=\"_parent\"><img src=\"https://colab.research.google.com/assets/colab-badge.svg\" alt=\"Open In Colab\"/></a>"
      ]
    },
    {
      "cell_type": "markdown",
      "metadata": {
        "id": "pRxTZepc32dB"
      },
      "source": [
        "## Python Data Type: String - Exercises"
      ]
    },
    {
      "cell_type": "code",
      "source": [],
      "metadata": {
        "id": "kzDsOeOY4Nm0"
      },
      "execution_count": null,
      "outputs": []
    },
    {
      "cell_type": "markdown",
      "metadata": {
        "id": "ML8smEoF32dX"
      },
      "source": [
        "#### 1. Write a Python program to count the number of characters (character frequency) in a string \n",
        "* Sample String : google.com'\n",
        "* Expected Result : {'o': 3, 'g': 2, '.': 1, 'e': 1, 'l': 1, 'm': 1, 'c': 1}"
      ]
    },
    {
      "cell_type": "code",
      "execution_count": 1,
      "metadata": {
        "colab": {
          "base_uri": "https://localhost:8080/"
        },
        "id": "e_wmXEIw32dc",
        "outputId": "8fc0b359-bdc7-4be6-fb4d-87b366c6dfc9"
      },
      "outputs": [
        {
          "output_type": "stream",
          "name": "stdout",
          "text": [
            "{'g': 2, 'o': 3, 'l': 1, 'e': 1, '.': 1, 'c': 1, 'm': 1}\n"
          ]
        }
      ],
      "source": [
        "def char_frequency(str1):\n",
        "  dict={}\n",
        "  for n in str1:\n",
        "    keys = dict.keys()\n",
        "    if n in keys:\n",
        "      dict[n] +=1\n",
        "    else:\n",
        "      dict[n]=1\n",
        "  return dict \n",
        "print(char_frequency('google.com'))      \n",
        "\n",
        "\n"
      ]
    },
    {
      "cell_type": "markdown",
      "metadata": {
        "id": "MmZodDtb32df"
      },
      "source": [
        "#### 2. Write a Python program to get a string from a given string where all occurrences of its first char have been changed to '$' ,except the first char itself\n",
        "\n",
        "* Sample String : 'restart'\n",
        "* Expected Result : 'resta$t' "
      ]
    },
    {
      "cell_type": "code",
      "execution_count": 7,
      "metadata": {
        "colab": {
          "base_uri": "https://localhost:8080/"
        },
        "id": "U-xtrmFG32dh",
        "outputId": "cca57a32-42ef-433b-eb5e-cda3086303ed"
      },
      "outputs": [
        {
          "output_type": "stream",
          "name": "stdout",
          "text": [
            "resta$t\n"
          ]
        }
      ],
      "source": [
        "def change_char(str1):\n",
        "  char= str1[0]\n",
        "  length= len(str1)\n",
        "  str1=str1.replace(char, '$')\n",
        "  str1= char + str1[1:]\n",
        "\n",
        "  return str1\n",
        "\n",
        "print(change_char(\"restart\"))\n",
        "    \n"
      ]
    },
    {
      "cell_type": "markdown",
      "metadata": {
        "id": "PaS9Q-wU32di"
      },
      "source": [
        "#### 3. Write a Python function that takes a list of words and returns the length of the longest one"
      ]
    },
    {
      "cell_type": "code",
      "execution_count": 10,
      "metadata": {
        "collapsed": true,
        "colab": {
          "base_uri": "https://localhost:8080/"
        },
        "id": "7CIlpwNX32dk",
        "outputId": "02a8d0cc-95c9-4bfe-ab41-9574d227afb8"
      },
      "outputs": [
        {
          "output_type": "stream",
          "name": "stdout",
          "text": [
            "machine learning\n"
          ]
        }
      ],
      "source": [
        "def longest_word(word_list):\n",
        "  word_len= []\n",
        "  for n in word_list:\n",
        "    word_len.append((len(n),n))\n",
        "  word_len.sort()\n",
        "  return word_len[-1][1]\n",
        "print(longest_word([\"python\",\"machine learning\",\"zekelabs\"]))  \n"
      ]
    },
    {
      "cell_type": "markdown",
      "metadata": {
        "id": "EzSQ6U5D32dm"
      },
      "source": [
        "#### 4. Write a Python program to count the occurrences of each word in a given sentence"
      ]
    },
    {
      "cell_type": "code",
      "execution_count": null,
      "metadata": {
        "collapsed": true,
        "id": "z_trH8Vb32do"
      },
      "outputs": [],
      "source": []
    },
    {
      "cell_type": "markdown",
      "metadata": {
        "id": "c-uoD50k32dt"
      },
      "source": [
        "#### 5. Write a Python function to convert a given string to all uppercase if it contains at least 2 uppercase characters in the first 4 characters."
      ]
    },
    {
      "cell_type": "code",
      "execution_count": 15,
      "metadata": {
        "collapsed": true,
        "colab": {
          "base_uri": "https://localhost:8080/"
        },
        "id": "h0AbUBYk32dw",
        "outputId": "28b1cee2-8000-49fb-a5e2-d748702e8350"
      },
      "outputs": [
        {
          "output_type": "stream",
          "name": "stdout",
          "text": [
            "PYTHON\n",
            "python\n"
          ]
        }
      ],
      "source": [
        "def uppercase(str1):\n",
        "  num_upper=0\n",
        "  for letter in str1[:4]:\n",
        "    if letter.upper()==letter:\n",
        "      num_upper+=1\n",
        "    if num_upper>=2:\n",
        "      return str1.upper()\n",
        "  return str1\n",
        "print(uppercase('PYthon'))\n",
        "print(uppercase('python'))      \n"
      ]
    },
    {
      "cell_type": "markdown",
      "metadata": {
        "id": "vKBBKYdq32dx"
      },
      "source": [
        "#### 6. Write a Python program to count and display the vowels of a given text"
      ]
    },
    {
      "cell_type": "code",
      "execution_count": null,
      "metadata": {
        "collapsed": true,
        "id": "qlIuia7D32d0"
      },
      "outputs": [],
      "source": []
    }
  ],
  "metadata": {
    "kernelspec": {
      "display_name": "Python 3",
      "language": "python",
      "name": "python3"
    },
    "language_info": {
      "codemirror_mode": {
        "name": "ipython",
        "version": 3
      },
      "file_extension": ".py",
      "mimetype": "text/x-python",
      "name": "python",
      "nbconvert_exporter": "python",
      "pygments_lexer": "ipython3",
      "version": "3.6.1"
    },
    "colab": {
      "provenance": [],
      "include_colab_link": true
    }
  },
  "nbformat": 4,
  "nbformat_minor": 0
}